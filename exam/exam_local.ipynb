{
 "cells": [
  {
   "cell_type": "markdown",
   "metadata": {},
   "source": [
    "# 1. Week 36"
   ]
  },
  {
   "cell_type": "code",
   "execution_count": 1,
   "metadata": {},
   "outputs": [],
   "source": [
    "import pandas as pd"
   ]
  },
  {
   "cell_type": "markdown",
   "metadata": {},
   "source": [
    "## Summarize data statistics \n",
    "- (size, word count, etc.) for training and validation data in the languages Arabic (ar), Korean (ko) and Telugu (te)"
   ]
  },
  {
   "cell_type": "markdown",
   "metadata": {},
   "source": [
    "Explore datasets"
   ]
  },
  {
   "cell_type": "code",
   "execution_count": 2,
   "metadata": {},
   "outputs": [],
   "source": [
    "splits = {'train': 'train.parquet', 'validation': 'validation.parquet'}\n",
    "df_train = pd.read_parquet(\"hf://datasets/coastalcph/tydi_xor_rc/\" + splits[\"train\"])\n",
    "df_val = pd.read_parquet(\"hf://datasets/coastalcph/tydi_xor_rc/\" + splits[\"validation\"])\n"
   ]
  },
  {
   "cell_type": "code",
   "execution_count": null,
   "metadata": {},
   "outputs": [],
   "source": [
    "#filter for ar, ko, te\n"
   ]
  },
  {
   "cell_type": "code",
   "execution_count": 7,
   "metadata": {},
   "outputs": [
    {
     "data": {
      "text/html": [
       "<div>\n",
       "<style scoped>\n",
       "    .dataframe tbody tr th:only-of-type {\n",
       "        vertical-align: middle;\n",
       "    }\n",
       "\n",
       "    .dataframe tbody tr th {\n",
       "        vertical-align: top;\n",
       "    }\n",
       "\n",
       "    .dataframe thead th {\n",
       "        text-align: right;\n",
       "    }\n",
       "</style>\n",
       "<table border=\"1\" class=\"dataframe\">\n",
       "  <thead>\n",
       "    <tr style=\"text-align: right;\">\n",
       "      <th></th>\n",
       "      <th>question</th>\n",
       "      <th>context</th>\n",
       "      <th>lang</th>\n",
       "      <th>answerable</th>\n",
       "      <th>answer_start</th>\n",
       "      <th>answer</th>\n",
       "      <th>answer_inlang</th>\n",
       "    </tr>\n",
       "  </thead>\n",
       "  <tbody>\n",
       "    <tr>\n",
       "      <th>0</th>\n",
       "      <td>উইকিলিকস কত সালে সর্বপ্রথম ইন্টারনেটে প্রথম তথ...</td>\n",
       "      <td>WikiLeaks () is an international non-profit or...</td>\n",
       "      <td>bn</td>\n",
       "      <td>True</td>\n",
       "      <td>182</td>\n",
       "      <td>2006</td>\n",
       "      <td>None</td>\n",
       "    </tr>\n",
       "    <tr>\n",
       "      <th>1</th>\n",
       "      <td>দ্বিতীয় বিশ্বযুদ্ধে কোন দেশ পরাজিত হয় ?</td>\n",
       "      <td>The war in Europe concluded with an invasion o...</td>\n",
       "      <td>bn</td>\n",
       "      <td>True</td>\n",
       "      <td>48</td>\n",
       "      <td>Germany</td>\n",
       "      <td>None</td>\n",
       "    </tr>\n",
       "    <tr>\n",
       "      <th>2</th>\n",
       "      <td>মার্কিন যুক্তরাষ্ট্রের সংবিধান অনুযায়ী মার্কিন...</td>\n",
       "      <td>Same-sex marriage in the United States expande...</td>\n",
       "      <td>bn</td>\n",
       "      <td>False</td>\n",
       "      <td>-1</td>\n",
       "      <td>no</td>\n",
       "      <td>None</td>\n",
       "    </tr>\n",
       "    <tr>\n",
       "      <th>3</th>\n",
       "      <td>আরব-ইসরায়েলি যুদ্ধে আরবের মোট কয়জন সৈন্যের মৃ...</td>\n",
       "      <td>The exact number of Arab casualties is unknown...</td>\n",
       "      <td>bn</td>\n",
       "      <td>True</td>\n",
       "      <td>39</td>\n",
       "      <td>unknown</td>\n",
       "      <td>None</td>\n",
       "    </tr>\n",
       "    <tr>\n",
       "      <th>4</th>\n",
       "      <td>বিশ্বে প্রথম পুঁজিবাদী সমাজ কবে গড়ে ওঠে ?</td>\n",
       "      <td>As Thomas Hall (2000) notes, \"The Sung Empire ...</td>\n",
       "      <td>bn</td>\n",
       "      <td>True</td>\n",
       "      <td>1219</td>\n",
       "      <td>17th century</td>\n",
       "      <td>None</td>\n",
       "    </tr>\n",
       "  </tbody>\n",
       "</table>\n",
       "</div>"
      ],
      "text/plain": [
       "                                            question  \\\n",
       "0  উইকিলিকস কত সালে সর্বপ্রথম ইন্টারনেটে প্রথম তথ...   \n",
       "1           দ্বিতীয় বিশ্বযুদ্ধে কোন দেশ পরাজিত হয় ?   \n",
       "2  মার্কিন যুক্তরাষ্ট্রের সংবিধান অনুযায়ী মার্কিন...   \n",
       "3  আরব-ইসরায়েলি যুদ্ধে আরবের মোট কয়জন সৈন্যের মৃ...   \n",
       "4          বিশ্বে প্রথম পুঁজিবাদী সমাজ কবে গড়ে ওঠে ?   \n",
       "\n",
       "                                             context lang  answerable  \\\n",
       "0  WikiLeaks () is an international non-profit or...   bn        True   \n",
       "1  The war in Europe concluded with an invasion o...   bn        True   \n",
       "2  Same-sex marriage in the United States expande...   bn       False   \n",
       "3  The exact number of Arab casualties is unknown...   bn        True   \n",
       "4  As Thomas Hall (2000) notes, \"The Sung Empire ...   bn        True   \n",
       "\n",
       "   answer_start        answer answer_inlang  \n",
       "0           182          2006          None  \n",
       "1            48       Germany          None  \n",
       "2            -1            no          None  \n",
       "3            39       unknown          None  \n",
       "4          1219  17th century          None  "
      ]
     },
     "execution_count": 7,
     "metadata": {},
     "output_type": "execute_result"
    }
   ],
   "source": [
    "df_train[:5]"
   ]
  },
  {
   "cell_type": "code",
   "execution_count": 8,
   "metadata": {},
   "outputs": [
    {
     "data": {
      "text/html": [
       "<div>\n",
       "<style scoped>\n",
       "    .dataframe tbody tr th:only-of-type {\n",
       "        vertical-align: middle;\n",
       "    }\n",
       "\n",
       "    .dataframe tbody tr th {\n",
       "        vertical-align: top;\n",
       "    }\n",
       "\n",
       "    .dataframe thead th {\n",
       "        text-align: right;\n",
       "    }\n",
       "</style>\n",
       "<table border=\"1\" class=\"dataframe\">\n",
       "  <thead>\n",
       "    <tr style=\"text-align: right;\">\n",
       "      <th></th>\n",
       "      <th>question</th>\n",
       "      <th>context</th>\n",
       "      <th>lang</th>\n",
       "      <th>answerable</th>\n",
       "      <th>answer_start</th>\n",
       "      <th>answer</th>\n",
       "      <th>answer_inlang</th>\n",
       "    </tr>\n",
       "  </thead>\n",
       "  <tbody>\n",
       "    <tr>\n",
       "      <th>0</th>\n",
       "      <td>ఒరెగాన్ రాష్ట్రంలోని అతిపెద్ద నగరం ఏది ?</td>\n",
       "      <td>Portland is the largest city in the U.S. state...</td>\n",
       "      <td>te</td>\n",
       "      <td>True</td>\n",
       "      <td>0</td>\n",
       "      <td>Portland</td>\n",
       "      <td>None</td>\n",
       "    </tr>\n",
       "    <tr>\n",
       "      <th>1</th>\n",
       "      <td>కలరా వ్యాధిని మొదటగా ఏ దేశంలో కనుగొన్నారు ?</td>\n",
       "      <td>The word cholera is from \"kholera\" from χολή \"...</td>\n",
       "      <td>te</td>\n",
       "      <td>True</td>\n",
       "      <td>99</td>\n",
       "      <td>Indian subcontinent</td>\n",
       "      <td>None</td>\n",
       "    </tr>\n",
       "    <tr>\n",
       "      <th>2</th>\n",
       "      <td>కలరా వ్యాధిని మొదటగా ఏ దేశంలో కనుగొన్నారు ?</td>\n",
       "      <td>Since it became widespread in the 19th century...</td>\n",
       "      <td>te</td>\n",
       "      <td>True</td>\n",
       "      <td>451</td>\n",
       "      <td>England</td>\n",
       "      <td>None</td>\n",
       "    </tr>\n",
       "    <tr>\n",
       "      <th>3</th>\n",
       "      <td>మొదటి ప్రపంచ యుద్ధం ఎప్పుడు మొదలయింది ?</td>\n",
       "      <td>World War I occurred from 1914 to 1918. In ter...</td>\n",
       "      <td>te</td>\n",
       "      <td>True</td>\n",
       "      <td>26</td>\n",
       "      <td>1914</td>\n",
       "      <td>None</td>\n",
       "    </tr>\n",
       "    <tr>\n",
       "      <th>4</th>\n",
       "      <td>మొదటి ప్రపంచ యుద్ధం ఎప్పుడు మొదలయింది ?</td>\n",
       "      <td>World War I (often abbreviated as WWI or WW1),...</td>\n",
       "      <td>te</td>\n",
       "      <td>True</td>\n",
       "      <td>155</td>\n",
       "      <td>28 July 1914</td>\n",
       "      <td>None</td>\n",
       "    </tr>\n",
       "  </tbody>\n",
       "</table>\n",
       "</div>"
      ],
      "text/plain": [
       "                                      question  \\\n",
       "0     ఒరెగాన్ రాష్ట్రంలోని అతిపెద్ద నగరం ఏది ?   \n",
       "1  కలరా వ్యాధిని మొదటగా ఏ దేశంలో కనుగొన్నారు ?   \n",
       "2  కలరా వ్యాధిని మొదటగా ఏ దేశంలో కనుగొన్నారు ?   \n",
       "3      మొదటి ప్రపంచ యుద్ధం ఎప్పుడు మొదలయింది ?   \n",
       "4      మొదటి ప్రపంచ యుద్ధం ఎప్పుడు మొదలయింది ?   \n",
       "\n",
       "                                             context lang  answerable  \\\n",
       "0  Portland is the largest city in the U.S. state...   te        True   \n",
       "1  The word cholera is from \"kholera\" from χολή \"...   te        True   \n",
       "2  Since it became widespread in the 19th century...   te        True   \n",
       "3  World War I occurred from 1914 to 1918. In ter...   te        True   \n",
       "4  World War I (often abbreviated as WWI or WW1),...   te        True   \n",
       "\n",
       "   answer_start               answer answer_inlang  \n",
       "0             0             Portland          None  \n",
       "1            99  Indian subcontinent          None  \n",
       "2           451              England          None  \n",
       "3            26                 1914          None  \n",
       "4           155         28 July 1914          None  "
      ]
     },
     "execution_count": 8,
     "metadata": {},
     "output_type": "execute_result"
    }
   ],
   "source": [
    "df_val[:5]"
   ]
  },
  {
   "cell_type": "code",
   "execution_count": null,
   "metadata": {},
   "outputs": [],
   "source": []
  }
 ],
 "metadata": {
  "kernelspec": {
   "display_name": "ku",
   "language": "python",
   "name": "python3"
  },
  "language_info": {
   "codemirror_mode": {
    "name": "ipython",
    "version": 3
   },
   "file_extension": ".py",
   "mimetype": "text/x-python",
   "name": "python",
   "nbconvert_exporter": "python",
   "pygments_lexer": "ipython3",
   "version": "3.12.4"
  }
 },
 "nbformat": 4,
 "nbformat_minor": 2
}
